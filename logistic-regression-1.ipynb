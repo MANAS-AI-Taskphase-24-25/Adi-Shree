{
 "cells": [
  {
   "cell_type": "code",
   "execution_count": 5,
   "metadata": {
    "trusted": true
   },
   "outputs": [
    {
     "name": "stdout",
     "output_type": "stream",
     "text": [
      "Cost after iteration 0: 0.6931471805599454\n",
      "Cost after iteration 10: 0.49719681140883415\n",
      "Cost after iteration 20: 0.4296660911545462\n",
      "Cost after iteration 30: 0.3972622020452601\n",
      "Cost after iteration 40: 0.37861690454650415\n",
      "Cost after iteration 50: 0.366674733241752\n",
      "Cost after iteration 60: 0.35846748248405336\n",
      "Cost after iteration 70: 0.35253722440342494\n",
      "Cost after iteration 80: 0.34808768768415554\n",
      "Cost after iteration 90: 0.3446491675958241\n",
      "Cost after iteration 100: 0.34192793685917594\n",
      "Cost after iteration 110: 0.3397317029801752\n",
      "Cost after iteration 120: 0.33792983641687885\n",
      "Cost after iteration 130: 0.3364308411785444\n",
      "Cost after iteration 140: 0.33516895265695307\n",
      "Cost after iteration 150: 0.3340958337787013\n",
      "Cost after iteration 160: 0.33317525052377933\n",
      "Cost after iteration 170: 0.33237955700484373\n",
      "Cost after iteration 180: 0.33168731693040443\n",
      "Cost after iteration 190: 0.33108165977813303\n"
     ]
    },
    {
     "data": {
      "image/png": "[encoded data removed]",
      "text/plain": [
       "<Figure size 640x480 with 1 Axes>"
      ]
     },
     "metadata": {},
     "output_type": "display_data"
    },
    {
     "name": "stdout",
     "output_type": "stream",
     "text": [
      "Test accuracy: 88.0 %\n"
     ]
    }
   ],
   "source": [
    "import numpy as np\n",
    "import pandas as pd\n",
    "import matplotlib.pyplot as plt\n",
    "\n",
    "train_data = pd.read_csv(r\"C:\\Users\\Adi Shree\\Desktop\\python\\Gotem Pumpkins.csv\", index_col=0)\n",
    "test_data = pd.read_csv(r\"C:\\Users\\Adi Shree\\Desktop\\python\\Freyja_Pumpkins.csv\", index_col=0)\n",
    "\n",
    "class_labels = train_data['Class'].unique()\n",
    "class_mapping = {label: idx for idx, label in enumerate(class_labels)}\n",
    "\n",
    "train_data['Class'] = train_data['Class'].map(class_mapping)\n",
    "test_data['Class'] = test_data['Class'].map(class_mapping)\n",
    "\n",
    "#making sure feature columns are numeric\n",
    "train_data = train_data.apply(pd.to_numeric, errors='coerce')\n",
    "test_data = test_data.apply(pd.to_numeric, errors='coerce')\n",
    "\n",
    "#handle missing values (fill with 0)\n",
    "train_data = train_data.fillna(0)\n",
    "test_data = test_data.fillna(0)\n",
    "\n",
    "#separate features and target variable for training\n",
    "y_train = train_data['Class'].values  # target variable\n",
    "x_data = train_data.drop(['Class'], axis=1)  # features\n",
    "train_mean = np.mean(x_data, axis=0)\n",
    "train_std = np.std(x_data, axis=0)\n",
    "\n",
    "x_train = (x_data - train_mean) / train_std \n",
    "x_test_data = test_data.drop(['Class'], axis=1)\n",
    "x_test = (x_test_data - train_mean) / train_std  # using training data's mean and std to standardize test data\n",
    "\n",
    "#Reshape target variables for logistic regression\n",
    "y_train = y_train.reshape(1, -1)\n",
    "y_test = test_data['Class'].values.reshape(1, -1)\n",
    "\n",
    "#logistic Regression functions\n",
    "def initialize_weights_and_bias(dimension):\n",
    "    w = np.zeros((dimension, 1))  # Initialize weights to zero\n",
    "    b = 0.0  # Initialize bias to zero\n",
    "    return w, b\n",
    "\n",
    "def sigmoid(z):\n",
    "    return 1 / (1 + np.exp(-z))\n",
    "\n",
    "def forward_backward_propagation(w, b, x_train, y_train):\n",
    "    z = np.dot(w.T, x_train) + b\n",
    "    y_head = sigmoid(z)\n",
    "    loss = -y_train * np.log(y_head) - (1 - y_train) * np.log(1 - y_head)\n",
    "    cost = np.sum(loss) / x_train.shape[1]\n",
    "\n",
    "    #backward propagation\n",
    "    derivative_weight = np.dot(x_train, (y_head - y_train).T) / x_train.shape[1]\n",
    "    derivative_bias = np.sum(y_head - y_train) / x_train.shape[1]\n",
    "\n",
    "    gradients = {\"derivative_weight\": derivative_weight, \"derivative_bias\": derivative_bias}\n",
    "    return cost, gradients\n",
    "\n",
    "def update(w, b, x_train, y_train, learning_rate, num_iterations):\n",
    "    cost_list = []\n",
    "    for i in range(num_iterations):\n",
    "        cost, gradients = forward_backward_propagation(w, b, x_train, y_train)\n",
    "        cost_list.append(cost)\n",
    "        \n",
    "        #update weights and bias\n",
    "        w -= learning_rate * gradients[\"derivative_weight\"]\n",
    "        b -= learning_rate * gradients[\"derivative_bias\"]\n",
    "        \n",
    "        if i % 10 == 0:\n",
    "            print(f\"Cost after iteration {i}: {cost}\")\n",
    "\n",
    "    plt.plot(range(0, num_iterations, 10), cost_list[::10])\n",
    "    plt.xlabel(\"Iterations\")\n",
    "    plt.ylabel(\"Cost\")\n",
    "    plt.title(\"Cost over Iterations\")\n",
    "    plt.show()\n",
    "\n",
    "    return w, b, cost_list\n",
    "\n",
    "def predict(w, b, x_test):\n",
    "    z = sigmoid(np.dot(w.T, x_test) + b)\n",
    "    y_prediction = (z > 0.5).astype(int)\n",
    "    return y_prediction\n",
    "\n",
    "def logistic_regression(x_train, y_train, x_test, y_test, learning_rate, num_iterations):\n",
    "    dimension = x_train.shape[0]\n",
    "    w, b = initialize_weights_and_bias(dimension)\n",
    "    \n",
    "    # Update weights and bias\n",
    "    w, b, cost_list = update(w, b, x_train, y_train, learning_rate, num_iterations)\n",
    "   \n",
    "    y_prediction_test = predict(w, b, x_test)\n",
    "   \n",
    "    accuracy = 100 - np.mean(np.abs(y_prediction_test - y_test)) * 100\n",
    "    print(f\"Test accuracy: {accuracy} %\")\n",
    "\n",
    "logistic_regression(x_train.T, y_train, x_test.T, y_test, learning_rate=0.05, num_iterations=200)"
   ]
  }
 ],
 "metadata": {
  "kaggle": {
   "accelerator": "none",
   "dataSources": [
    {
     "datasetId": 6274020,
     "sourceId": 10160592,
     "sourceType": "datasetVersion"
    },
    {
     "datasetId": 6274024,
     "sourceId": 10160597,
     "sourceType": "datasetVersion"
    }
   ],
   "dockerImageVersionId": 30786,
   "isGpuEnabled": false,
   "isInternetEnabled": false,
   "language": "python",
   "sourceType": "notebook"
  },
  "kernelspec": {
   "display_name": "Python 3",
   "language": "python",
   "name": "python3"
  },
  "language_info": {
   "codemirror_mode": {
    "name": "ipython",
    "version": 3
   },
   "file_extension": ".py",
   "mimetype": "text/x-python",
   "name": "python",
   "nbconvert_exporter": "python",
   "pygments_lexer": "ipython3",
   "version": "3.13.1"
  }
 },
 "nbformat": 4,
 "nbformat_minor": 4
}
